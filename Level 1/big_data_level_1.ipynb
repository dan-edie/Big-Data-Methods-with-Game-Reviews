{
  "nbformat": 4,
  "nbformat_minor": 0,
  "metadata": {
    "colab": {
      "name": "big_data_level_1.ipynb",
      "provenance": []
    },
    "kernelspec": {
      "name": "python3",
      "display_name": "Python 3"
    }
  },
  "cells": [
    {
      "cell_type": "code",
      "metadata": {
        "id": "OjEWMGXNdVMB",
        "colab_type": "code",
        "colab": {
          "base_uri": "https://localhost:8080/",
          "height": 442
        },
        "outputId": "ca0d6d19-28d5-4304-fa2f-b36321a40f64"
      },
      "source": [
        "# Install Java, Spark, and Findspark\n",
        "!apt-get update\n",
        "!apt-get install openjdk-8-jdk-headless -qq > /dev/null\n",
        "!wget -q http://www-us.apache.org/dist/spark/spark-2.4.6/spark-2.4.6-bin-hadoop2.7.tgz\n",
        "!tar xf spark-2.4.6-bin-hadoop2.7.tgz\n",
        "!pip install -q findspark\n",
        "\n",
        "# Set Environment Variables\n",
        "import os\n",
        "os.environ[\"JAVA_HOME\"] = \"/usr/lib/jvm/java-8-openjdk-amd64\"\n",
        "os.environ[\"SPARK_HOME\"] = \"/content/spark-2.4.6-bin-hadoop2.7\"\n",
        "\n",
        "# Start a SparkSession\n",
        "import findspark\n",
        "findspark.init()"
      ],
      "execution_count": 1,
      "outputs": [
        {
          "output_type": "stream",
          "text": [
            "\r0% [Working]\r            \rGet:1 http://security.ubuntu.com/ubuntu bionic-security InRelease [88.7 kB]\n",
            "Ign:2 https://developer.download.nvidia.com/compute/cuda/repos/ubuntu1804/x86_64  InRelease\n",
            "Get:3 https://cloud.r-project.org/bin/linux/ubuntu bionic-cran35/ InRelease [3,626 B]\n",
            "Hit:4 http://ppa.launchpad.net/graphics-drivers/ppa/ubuntu bionic InRelease\n",
            "Ign:5 https://developer.download.nvidia.com/compute/machine-learning/repos/ubuntu1804/x86_64  InRelease\n",
            "Get:6 https://developer.download.nvidia.com/compute/cuda/repos/ubuntu1804/x86_64  Release [697 B]\n",
            "Hit:7 http://archive.ubuntu.com/ubuntu bionic InRelease\n",
            "Hit:8 https://developer.download.nvidia.com/compute/machine-learning/repos/ubuntu1804/x86_64  Release\n",
            "Get:9 https://developer.download.nvidia.com/compute/cuda/repos/ubuntu1804/x86_64  Release.gpg [836 B]\n",
            "Get:10 http://archive.ubuntu.com/ubuntu bionic-updates InRelease [88.7 kB]\n",
            "Get:11 http://ppa.launchpad.net/marutter/c2d4u3.5/ubuntu bionic InRelease [15.4 kB]\n",
            "Get:12 http://security.ubuntu.com/ubuntu bionic-security/universe amd64 Packages [884 kB]\n",
            "Get:13 http://security.ubuntu.com/ubuntu bionic-security/multiverse amd64 Packages [9,558 B]\n",
            "Get:14 http://security.ubuntu.com/ubuntu bionic-security/main amd64 Packages [1,038 kB]\n",
            "Get:15 http://archive.ubuntu.com/ubuntu bionic-backports InRelease [74.6 kB]\n",
            "Ign:17 https://developer.download.nvidia.com/compute/cuda/repos/ubuntu1804/x86_64  Packages\n",
            "Get:17 https://developer.download.nvidia.com/compute/cuda/repos/ubuntu1804/x86_64  Packages [255 kB]\n",
            "Get:18 http://ppa.launchpad.net/marutter/c2d4u3.5/ubuntu bionic/main Sources [1,857 kB]\n",
            "Get:19 http://archive.ubuntu.com/ubuntu bionic-updates/restricted amd64 Packages [116 kB]\n",
            "Get:20 http://archive.ubuntu.com/ubuntu bionic-updates/universe amd64 Packages [1,413 kB]\n",
            "Get:21 http://archive.ubuntu.com/ubuntu bionic-updates/multiverse amd64 Packages [27.1 kB]\n",
            "Get:22 http://archive.ubuntu.com/ubuntu bionic-updates/main amd64 Packages [1,336 kB]\n",
            "Get:23 http://ppa.launchpad.net/marutter/c2d4u3.5/ubuntu bionic/main amd64 Packages [896 kB]\n",
            "Fetched 8,104 kB in 3s (2,473 kB/s)\n",
            "Reading package lists... Done\n"
          ],
          "name": "stdout"
        }
      ]
    },
    {
      "cell_type": "code",
      "metadata": {
        "id": "ATOmUcXddrYN",
        "colab_type": "code",
        "colab": {}
      },
      "source": [
        "from pyspark.sql import SparkSession\n",
        "spark = SparkSession.builder.appName(\"CloudETLProject\").getOrCreate()"
      ],
      "execution_count": 2,
      "outputs": []
    },
    {
      "cell_type": "code",
      "metadata": {
        "id": "2D0MrhFbz8zt",
        "colab_type": "code",
        "colab": {}
      },
      "source": [
        "# Import struct fields that we can use\n",
        "from pyspark.sql.types import StructField, StringType, IntegerType, StructType\n",
        "\n",
        "# Create the list of struct fields\n",
        "schema = [StructField(\"customer_id\", IngeterType(), False), StructField(\"price\", IntegerType(), True),]\n",
        "schema"
      ],
      "execution_count": null,
      "outputs": []
    },
    {
      "cell_type": "code",
      "metadata": {
        "id": "7MOZsb0VGu59",
        "colab_type": "code",
        "colab": {}
      },
      "source": [
        "# Pass in our fields\n",
        "final = StructType(fields=schema)\n",
        "final"
      ],
      "execution_count": null,
      "outputs": []
    },
    {
      "cell_type": "code",
      "metadata": {
        "id": "EWKgQxDNdtmg",
        "colab_type": "code",
        "colab": {
          "base_uri": "https://localhost:8080/",
          "height": 309
        },
        "outputId": "e23a75bc-2cc4-4216-9ea2-6311bb871ab8"
      },
      "source": [
        "from pyspark import SparkFiles\n",
        "# Load in user_data.csv from S3 into a DataFrame \n",
        "url = \"https://s3.amazonaws.com/amazon-reviews-pds/tsv/sample_us.tsv\"\n",
        "spark.sparkContext.addFile(url)\n",
        "\n",
        "df = spark.read.option('header', 'true').csv(SparkFiles.get(\"sample_us.tsv\"), inferSchema=True, sep='\\t', timestampFormat=\"yyyy-MM-dd\")\n",
        "df.show(10)"
      ],
      "execution_count": 23,
      "outputs": [
        {
          "output_type": "stream",
          "text": [
            "+-----------+-----------+--------------+----------+--------------+--------------------+----------------+-----------+-------------+-----------+----+-----------------+--------------------+--------------------+-------------------+\n",
            "|marketplace|customer_id|     review_id|product_id|product_parent|       product_title|product_category|star_rating|helpful_votes|total_votes|vine|verified_purchase|     review_headline|         review_body|        review_date|\n",
            "+-----------+-----------+--------------+----------+--------------+--------------------+----------------+-----------+-------------+-----------+----+-----------------+--------------------+--------------------+-------------------+\n",
            "|         US|   18778586| RDIJS7QYB6XNR|B00EDBY7X8|     122952789|Monopoly Junior B...|            Toys|          5|            0|          0|   N|                Y|          Five Stars|        Excellent!!!|2015-08-31 00:00:00|\n",
            "|         US|   24769659|R36ED1U38IELG8|B00D7JFOPC|     952062646|56 Pieces of Wood...|            Toys|          5|            0|          0|   N|                Y|Good quality trac...|Great quality woo...|2015-08-31 00:00:00|\n",
            "|         US|   44331596| R1UE3RPRGCOLD|B002LHA74O|     818126353|Super Jumbo Playi...|            Toys|          2|            1|          1|   N|                Y|           Two Stars|Cards are not as ...|2015-08-31 00:00:00|\n",
            "|         US|   23310293|R298788GS6I901|B00ARPLCGY|     261944918|Barbie Doll and F...|            Toys|          5|            0|          0|   N|                Y|my daughter loved...|my daughter loved...|2015-08-31 00:00:00|\n",
            "|         US|   38745832|  RNX4EXOBBPN5|B00UZOPOFW|     717410439|Emazing Lights eL...|            Toys|          1|            1|          1|   N|                Y|     DONT BUY THESE!|Do not buy these!...|2015-08-31 00:00:00|\n",
            "|         US|   13394189|R3BPETL222LMIM|B009B7F6CA|     873028700|Melissa & Doug Wa...|            Toys|          5|            0|          0|   N|                Y|          Five Stars|Great item. Pictu...|2015-08-31 00:00:00|\n",
            "|         US|    2749569|R3SORMPJZO3F2J|B0101EHRSM|     723424342|Big Bang Cosmic P...|            Toys|          3|            2|          2|   N|                Y|         Three Stars|To keep together,...|2015-08-31 00:00:00|\n",
            "|         US|   41137196|R2RDOJQ0WBZCF6|B00407S11Y|     383363775|Fun Express Insec...|            Toys|          5|            0|          0|   N|                Y|          Five Stars|I was pleased wit...|2015-08-31 00:00:00|\n",
            "|         US|     433677|R2B8VBEPB4YEZ7|B00FGPU7U2|     780517568|Fisher-Price Octo...|            Toys|          5|            0|          0|   N|                Y|          Five Stars|    Children like it|2015-08-31 00:00:00|\n",
            "|         US|    1297934|R1CB783I7B0U52|B0013OY0S0|     269360126|Claw Climber Goli...|            Toys|          1|            0|          1|   N|                Y|Shame on the sell...|Showed up not how...|2015-08-31 00:00:00|\n",
            "+-----------+-----------+--------------+----------+--------------+--------------------+----------------+-----------+-------------+-----------+----+-----------------+--------------------+--------------------+-------------------+\n",
            "only showing top 10 rows\n",
            "\n"
          ],
          "name": "stdout"
        }
      ]
    },
    {
      "cell_type": "markdown",
      "metadata": {
        "id": "8D3KRibaum18",
        "colab_type": "text"
      },
      "source": [
        "## How many rows are in the dataset?"
      ]
    },
    {
      "cell_type": "code",
      "metadata": {
        "id": "xIw04qGTt2hF",
        "colab_type": "code",
        "colab": {
          "base_uri": "https://localhost:8080/",
          "height": 34
        },
        "outputId": "1c56f533-c512-40b5-cfe9-fc6836795c34"
      },
      "source": [
        "# Count the number of entries in the dataset\n",
        "print(f\"There are {df.count()} rows in the dataset\")"
      ],
      "execution_count": 36,
      "outputs": [
        {
          "output_type": "stream",
          "text": [
            "There are 49 rows in the dataset\n"
          ],
          "name": "stdout"
        }
      ]
    },
    {
      "cell_type": "markdown",
      "metadata": {
        "id": "oyHVdO-Rtv7n",
        "colab_type": "text"
      },
      "source": [
        "## Transform DataFrame to fit review_id table"
      ]
    },
    {
      "cell_type": "code",
      "metadata": {
        "id": "ZcbvlcW9gNub",
        "colab_type": "code",
        "colab": {
          "base_uri": "https://localhost:8080/",
          "height": 459
        },
        "outputId": "30263990-b143-4527-9c60-009dc5731ed5"
      },
      "source": [
        "review_df = df.select([\"review_id\", \"customer_id\",\"product_id\", \"product_parent\", \"review_date\"])\n",
        "review_df.show()"
      ],
      "execution_count": 43,
      "outputs": [
        {
          "output_type": "stream",
          "text": [
            "+--------------+-----------+----------+--------------+-------------------+\n",
            "|     review_id|customer_id|product_id|product_parent|        review_date|\n",
            "+--------------+-----------+----------+--------------+-------------------+\n",
            "| RDIJS7QYB6XNR|   18778586|B00EDBY7X8|     122952789|2015-08-31 00:00:00|\n",
            "|R36ED1U38IELG8|   24769659|B00D7JFOPC|     952062646|2015-08-31 00:00:00|\n",
            "| R1UE3RPRGCOLD|   44331596|B002LHA74O|     818126353|2015-08-31 00:00:00|\n",
            "|R298788GS6I901|   23310293|B00ARPLCGY|     261944918|2015-08-31 00:00:00|\n",
            "|  RNX4EXOBBPN5|   38745832|B00UZOPOFW|     717410439|2015-08-31 00:00:00|\n",
            "|R3BPETL222LMIM|   13394189|B009B7F6CA|     873028700|2015-08-31 00:00:00|\n",
            "|R3SORMPJZO3F2J|    2749569|B0101EHRSM|     723424342|2015-08-31 00:00:00|\n",
            "|R2RDOJQ0WBZCF6|   41137196|B00407S11Y|     383363775|2015-08-31 00:00:00|\n",
            "|R2B8VBEPB4YEZ7|     433677|B00FGPU7U2|     780517568|2015-08-31 00:00:00|\n",
            "|R1CB783I7B0U52|    1297934|B0013OY0S0|     269360126|2015-08-31 00:00:00|\n",
            "| R2D90RQQ3V8LH|   52006292|B00519PJTW|     493486387|2015-08-31 00:00:00|\n",
            "|R1Y4ZOUGFMJ327|   32071052|B001TCY2DO|     459122467|2015-08-31 00:00:00|\n",
            "|R2BUV9QJI2A00X|    7360347|B00DOQCWF8|     226984155|2015-08-31 00:00:00|\n",
            "| RSUHRJFJIRB3Z|   11613707|B004C04I4I|     375659886|2015-08-31 00:00:00|\n",
            "|R1T96CG98BBA15|   13545982|B00NWGEKBY|     933734136|2015-08-31 00:00:00|\n",
            "| R2ATXF4QQ30YW|   43880421|B00000JS5S|     341842639|2015-08-31 00:00:00|\n",
            "|R1YS3DS218NNMD|    1662075|B00XPWXYDK|     210135375|2015-08-31 00:00:00|\n",
            "|R2SDXLTLF92O0H|   18461411|B00VPXX92W|     705054378|2015-08-31 00:00:00|\n",
            "| R4R337CCDWLNG|   27225859|B00YRA3H4U|     223420727|2015-08-31 00:00:00|\n",
            "|R32Z6UA4S5Q630|   20494593|B009T8BSQY|     787701676|2015-08-31 00:00:00|\n",
            "+--------------+-----------+----------+--------------+-------------------+\n",
            "only showing top 20 rows\n",
            "\n"
          ],
          "name": "stdout"
        }
      ]
    },
    {
      "cell_type": "code",
      "metadata": {
        "id": "TmneWqD0g6Iq",
        "colab_type": "code",
        "colab": {
          "base_uri": "https://localhost:8080/",
          "height": 136
        },
        "outputId": "ece65c5a-8038-442f-b93e-d53a3c6ba21f"
      },
      "source": [
        "# Show the schema to confirm the column type\n",
        "review_df.printSchema()"
      ],
      "execution_count": 50,
      "outputs": [
        {
          "output_type": "stream",
          "text": [
            "root\n",
            " |-- review_id: string (nullable = true)\n",
            " |-- customer_id: integer (nullable = true)\n",
            " |-- product_id: string (nullable = true)\n",
            " |-- product_parent: integer (nullable = true)\n",
            " |-- review_date: string (nullable = true)\n",
            "\n"
          ],
          "name": "stdout"
        }
      ]
    },
    {
      "cell_type": "code",
      "metadata": {
        "id": "QCsiR31CkIwZ",
        "colab_type": "code",
        "colab": {
          "base_uri": "https://localhost:8080/",
          "height": 289
        },
        "outputId": "4165708d-ac63-4abe-bd0d-f6dd0b5ceead"
      },
      "source": [
        "# Drop the hh:mm:ss from the timestamp\n",
        "review_df = review_df.withColumn(\"review_date\", date_format(review_df['review_date'], 'yyyy-MM-dd'))\n",
        "review_df.show(10)"
      ],
      "execution_count": 45,
      "outputs": [
        {
          "output_type": "stream",
          "text": [
            "+--------------+-----------+----------+--------------+-----------+\n",
            "|     review_id|customer_id|product_id|product_parent|review_date|\n",
            "+--------------+-----------+----------+--------------+-----------+\n",
            "| RDIJS7QYB6XNR|   18778586|B00EDBY7X8|     122952789| 2015-08-31|\n",
            "|R36ED1U38IELG8|   24769659|B00D7JFOPC|     952062646| 2015-08-31|\n",
            "| R1UE3RPRGCOLD|   44331596|B002LHA74O|     818126353| 2015-08-31|\n",
            "|R298788GS6I901|   23310293|B00ARPLCGY|     261944918| 2015-08-31|\n",
            "|  RNX4EXOBBPN5|   38745832|B00UZOPOFW|     717410439| 2015-08-31|\n",
            "|R3BPETL222LMIM|   13394189|B009B7F6CA|     873028700| 2015-08-31|\n",
            "|R3SORMPJZO3F2J|    2749569|B0101EHRSM|     723424342| 2015-08-31|\n",
            "|R2RDOJQ0WBZCF6|   41137196|B00407S11Y|     383363775| 2015-08-31|\n",
            "|R2B8VBEPB4YEZ7|     433677|B00FGPU7U2|     780517568| 2015-08-31|\n",
            "|R1CB783I7B0U52|    1297934|B0013OY0S0|     269360126| 2015-08-31|\n",
            "+--------------+-----------+----------+--------------+-----------+\n",
            "only showing top 10 rows\n",
            "\n"
          ],
          "name": "stdout"
        }
      ]
    },
    {
      "cell_type": "code",
      "metadata": {
        "id": "hhemgpXlynau",
        "colab_type": "code",
        "colab": {
          "base_uri": "https://localhost:8080/",
          "height": 34
        },
        "outputId": "e0ed39b3-7836-40a2-a3c1-3b38fe60af85"
      },
      "source": [
        "# Drop any null values\n",
        "review_df.dropna()"
      ],
      "execution_count": 47,
      "outputs": [
        {
          "output_type": "execute_result",
          "data": {
            "text/plain": [
              "DataFrame[review_id: string, customer_id: int, product_id: string, product_parent: int, review_date: string]"
            ]
          },
          "metadata": {
            "tags": []
          },
          "execution_count": 47
        }
      ]
    },
    {
      "cell_type": "code",
      "metadata": {
        "id": "jYbY8dnDvRdz",
        "colab_type": "code",
        "colab": {
          "base_uri": "https://localhost:8080/",
          "height": 34
        },
        "outputId": "73c8f08c-fcdf-40ad-a0b0-51ed62cdd883"
      },
      "source": [
        "# Check to see if the number of rows matches the dataset\n",
        "print(f\"There are {review_df.count()} rows in the data frame\")"
      ],
      "execution_count": 48,
      "outputs": [
        {
          "output_type": "stream",
          "text": [
            "There are 49 rows in the data frame\n"
          ],
          "name": "stdout"
        }
      ]
    },
    {
      "cell_type": "markdown",
      "metadata": {
        "id": "cqDFpoNIsr7v",
        "colab_type": "text"
      },
      "source": [
        "## Transform Dataframe to match products table"
      ]
    },
    {
      "cell_type": "code",
      "metadata": {
        "id": "bJunfLVCsvcX",
        "colab_type": "code",
        "colab": {
          "base_uri": "https://localhost:8080/",
          "height": 459
        },
        "outputId": "598984c6-b3f3-4380-db90-70b508f771d3"
      },
      "source": [
        "products_df = df.select([\"product_id\", \"product_title\"])\n",
        "products_df.show()"
      ],
      "execution_count": 35,
      "outputs": [
        {
          "output_type": "stream",
          "text": [
            "+----------+--------------------+\n",
            "|product_id|       product_title|\n",
            "+----------+--------------------+\n",
            "|B00EDBY7X8|Monopoly Junior B...|\n",
            "|B00D7JFOPC|56 Pieces of Wood...|\n",
            "|B002LHA74O|Super Jumbo Playi...|\n",
            "|B00ARPLCGY|Barbie Doll and F...|\n",
            "|B00UZOPOFW|Emazing Lights eL...|\n",
            "|B009B7F6CA|Melissa & Doug Wa...|\n",
            "|B0101EHRSM|Big Bang Cosmic P...|\n",
            "|B00407S11Y|Fun Express Insec...|\n",
            "|B00FGPU7U2|Fisher-Price Octo...|\n",
            "|B0013OY0S0|Claw Climber Goli...|\n",
            "|B00519PJTW|100 Foot Multicol...|\n",
            "|B001TCY2DO|Pig Jumbo Foil Ba...|\n",
            "|B00DOQCWF8|Minecraft Animal ...|\n",
            "|B004C04I4I|Disney Baby: Eeyo...|\n",
            "|B00NWGEKBY|Team Losi 8IGHT-E...|\n",
            "|B00000JS5S|Hot Wheels 48- Ca...|\n",
            "|B00XPWXYDK|ZuZo 2.4GHz 4 CH ...|\n",
            "|B00VPXX92W|Teenage Mutant Ni...|\n",
            "|B00YRA3H4U|Franklin Sports M...|\n",
            "|B009T8BSQY|Alien Frontiers: ...|\n",
            "+----------+--------------------+\n",
            "only showing top 20 rows\n",
            "\n"
          ],
          "name": "stdout"
        }
      ]
    },
    {
      "cell_type": "code",
      "metadata": {
        "id": "f3fS2NsyyzXs",
        "colab_type": "code",
        "colab": {
          "base_uri": "https://localhost:8080/",
          "height": 85
        },
        "outputId": "f3f1164e-bab7-4aa5-8594-8930902aa347"
      },
      "source": [
        "# Check the columns to match the schema\n",
        "products_df.printSchema()"
      ],
      "execution_count": 49,
      "outputs": [
        {
          "output_type": "stream",
          "text": [
            "root\n",
            " |-- product_id: string (nullable = true)\n",
            " |-- product_title: string (nullable = true)\n",
            "\n"
          ],
          "name": "stdout"
        }
      ]
    },
    {
      "cell_type": "code",
      "metadata": {
        "id": "tH1qVFlmvFwN",
        "colab_type": "code",
        "colab": {
          "base_uri": "https://localhost:8080/",
          "height": 34
        },
        "outputId": "23d646df-058a-4e78-f2eb-f704f51b4171"
      },
      "source": [
        "# Check to see if the number of rows matches the dataset\n",
        "print(f\"There are {products_df.count()} rows in the data frame\")"
      ],
      "execution_count": 38,
      "outputs": [
        {
          "output_type": "stream",
          "text": [
            "There are 49 rows in the data frame\n"
          ],
          "name": "stdout"
        }
      ]
    },
    {
      "cell_type": "markdown",
      "metadata": {
        "id": "wMCsC0IkvhWW",
        "colab_type": "text"
      },
      "source": [
        "## Transform the dataframe to match the customers table"
      ]
    },
    {
      "cell_type": "code",
      "metadata": {
        "id": "VWTESg7hwXzE",
        "colab_type": "code",
        "colab": {
          "base_uri": "https://localhost:8080/",
          "height": 459
        },
        "outputId": "bb2f53eb-72ce-4b2c-f9d6-b30919bc9fb0"
      },
      "source": [
        "customers_df = df.select([\"customer_id\"])\n",
        "customers_df.show()"
      ],
      "execution_count": 40,
      "outputs": [
        {
          "output_type": "stream",
          "text": [
            "+-----------+\n",
            "|customer_id|\n",
            "+-----------+\n",
            "|   18778586|\n",
            "|   24769659|\n",
            "|   44331596|\n",
            "|   23310293|\n",
            "|   38745832|\n",
            "|   13394189|\n",
            "|    2749569|\n",
            "|   41137196|\n",
            "|     433677|\n",
            "|    1297934|\n",
            "|   52006292|\n",
            "|   32071052|\n",
            "|    7360347|\n",
            "|   11613707|\n",
            "|   13545982|\n",
            "|   43880421|\n",
            "|    1662075|\n",
            "|   18461411|\n",
            "|   27225859|\n",
            "|   20494593|\n",
            "+-----------+\n",
            "only showing top 20 rows\n",
            "\n"
          ],
          "name": "stdout"
        }
      ]
    },
    {
      "cell_type": "code",
      "metadata": {
        "id": "morVa9UywfV5",
        "colab_type": "code",
        "colab": {
          "base_uri": "https://localhost:8080/",
          "height": 459
        },
        "outputId": "eb00ec5a-fd9a-42af-b960-76cbc2938249"
      },
      "source": [
        "customers_df = customers_df.groupBy('customer_id').agg({\"customer_id\": \"count\"})\n",
        "customers_df = customers_df.withColumnRenamed(\"count(customer_id)\", \"customer_count\")\n",
        "customers_df.show()"
      ],
      "execution_count": 41,
      "outputs": [
        {
          "output_type": "stream",
          "text": [
            "+-----------+--------------+\n",
            "|customer_id|customer_count|\n",
            "+-----------+--------------+\n",
            "|   18461411|             1|\n",
            "|   44331596|             1|\n",
            "|   20962528|             1|\n",
            "|   34874898|             1|\n",
            "|    6762003|             1|\n",
            "|    1297934|             1|\n",
            "|   13328687|             1|\n",
            "|    2749569|             1|\n",
            "|   12612039|             1|\n",
            "|   11613707|             1|\n",
            "|    5543658|             1|\n",
            "|    7360347|             1|\n",
            "|   45601416|             1|\n",
            "|   27225859|             1|\n",
            "|   32910511|             1|\n",
            "|   47546726|             1|\n",
            "|   13545982|             1|\n",
            "|   12191231|             1|\n",
            "|     433677|             1|\n",
            "|   13394189|             1|\n",
            "+-----------+--------------+\n",
            "only showing top 20 rows\n",
            "\n"
          ],
          "name": "stdout"
        }
      ]
    },
    {
      "cell_type": "markdown",
      "metadata": {
        "id": "kS79im2mx_I9",
        "colab_type": "text"
      },
      "source": [
        "## Transform dataset to match the vine table"
      ]
    },
    {
      "cell_type": "code",
      "metadata": {
        "id": "PKuSK4lexExG",
        "colab_type": "code",
        "colab": {
          "base_uri": "https://localhost:8080/",
          "height": 459
        },
        "outputId": "d3c474cd-a1b4-4101-d70a-f2089fa9d045"
      },
      "source": [
        "vine_df = df.select([\"review_id\", \"star_rating\", \"helpful_votes\", \"total_votes\", \"vine\"])\n",
        "vine_df.show()"
      ],
      "execution_count": 42,
      "outputs": [
        {
          "output_type": "stream",
          "text": [
            "+--------------+-----------+-------------+-----------+----+\n",
            "|     review_id|star_rating|helpful_votes|total_votes|vine|\n",
            "+--------------+-----------+-------------+-----------+----+\n",
            "| RDIJS7QYB6XNR|          5|            0|          0|   N|\n",
            "|R36ED1U38IELG8|          5|            0|          0|   N|\n",
            "| R1UE3RPRGCOLD|          2|            1|          1|   N|\n",
            "|R298788GS6I901|          5|            0|          0|   N|\n",
            "|  RNX4EXOBBPN5|          1|            1|          1|   N|\n",
            "|R3BPETL222LMIM|          5|            0|          0|   N|\n",
            "|R3SORMPJZO3F2J|          3|            2|          2|   N|\n",
            "|R2RDOJQ0WBZCF6|          5|            0|          0|   N|\n",
            "|R2B8VBEPB4YEZ7|          5|            0|          0|   N|\n",
            "|R1CB783I7B0U52|          1|            0|          1|   N|\n",
            "| R2D90RQQ3V8LH|          5|            0|          0|   N|\n",
            "|R1Y4ZOUGFMJ327|          5|            0|          0|   N|\n",
            "|R2BUV9QJI2A00X|          5|            0|          1|   N|\n",
            "| RSUHRJFJIRB3Z|          4|            0|          0|   N|\n",
            "|R1T96CG98BBA15|          3|            2|          4|   N|\n",
            "| R2ATXF4QQ30YW|          5|            0|          0|   N|\n",
            "|R1YS3DS218NNMD|          5|            4|          4|   N|\n",
            "|R2SDXLTLF92O0H|          5|            0|          0|   N|\n",
            "| R4R337CCDWLNG|          3|            0|          1|   Y|\n",
            "|R32Z6UA4S5Q630|          1|            0|          0|   N|\n",
            "+--------------+-----------+-------------+-----------+----+\n",
            "only showing top 20 rows\n",
            "\n"
          ],
          "name": "stdout"
        }
      ]
    },
    {
      "cell_type": "code",
      "metadata": {
        "id": "RASBkosdx8hj",
        "colab_type": "code",
        "colab": {}
      },
      "source": [
        ""
      ],
      "execution_count": null,
      "outputs": []
    }
  ]
}